{
 "cells": [
  {
   "cell_type": "markdown",
   "metadata": {},
   "source": [
    "# **Open Food Facts Analysis Notebook**"
   ]
  },
  {
   "cell_type": "markdown",
   "metadata": {},
   "source": [
    "This notebook demonstrates a data processing and recommendation system pipeline for the Open Food Facts dataset using Apache Spark on a Kaggle environment. It includes setup, data cleaning, feature engineering, and product recommendation based on ingredient similarity."
   ]
  },
  {
   "cell_type": "markdown",
   "metadata": {},
   "source": [
    "# 1. Environment Setup"
   ]
  },
  {
   "cell_type": "markdown",
   "metadata": {},
   "source": [
    "Install and configure Java and Spark dependencies for a Kaggle notebook environment."
   ]
  },
  {
   "cell_type": "code",
   "execution_count": null,
   "metadata": {
    "_cell_guid": "b1076dfc-b9ad-4769-8c92-a6c4dae69d19",
    "_uuid": "8f2839f25d086af736a60e9eeb907d3b93b6e0e5",
    "execution": {
     "iopub.execute_input": "2025-06-02T19:21:30.485436Z",
     "iopub.status.busy": "2025-06-02T19:21:30.485109Z",
     "iopub.status.idle": "2025-06-02T19:21:45.469089Z",
     "shell.execute_reply": "2025-06-02T19:21:45.468299Z",
     "shell.execute_reply.started": "2025-06-02T19:21:30.485416Z"
    },
    "trusted": true
   },
   "outputs": [
    {
     "name": "stdout",
     "output_type": "stream",
     "text": [
      "Hit:1 http://security.ubuntu.com/ubuntu jammy-security InRelease\n",
      "Hit:2 https://developer.download.nvidia.com/compute/cuda/repos/ubuntu2204/x86_64  InRelease\n",
      "Hit:3 https://cloud.r-project.org/bin/linux/ubuntu jammy-cran40/ InRelease     \u001b[0m\n",
      "Hit:4 https://r2u.stat.illinois.edu/ubuntu jammy InRelease                     \u001b[0m\n",
      "Hit:5 http://archive.ubuntu.com/ubuntu jammy InRelease                         \u001b[0m\u001b[33m\n",
      "Get:6 http://archive.ubuntu.com/ubuntu jammy-updates InRelease [128 kB]        \u001b[0m\n",
      "Hit:7 https://ppa.launchpadcontent.net/deadsnakes/ppa/ubuntu jammy InRelease   \u001b[0m\u001b[33m\u001b[33m\u001b[33m\n",
      "Hit:8 https://ppa.launchpadcontent.net/graphics-drivers/ppa/ubuntu jammy InRelease\n",
      "Hit:9 http://archive.ubuntu.com/ubuntu jammy-backports InRelease\n",
      "Hit:10 https://ppa.launchpadcontent.net/ubuntugis/ppa/ubuntu jammy InRelease\n",
      "Get:11 http://archive.ubuntu.com/ubuntu jammy-updates/universe amd64 Packages [1,553 kB]\n",
      "Fetched 1,681 kB in 2s (1,089 kB/s)  \u001b[0m[33m\u001b[33m\u001b[33m\u001b[33m\n",
      "Reading package lists... Done\n",
      "Building dependency tree... Done\n",
      "Reading state information... Done\n",
      "180 packages can be upgraded. Run 'apt list --upgradable' to see them.\n",
      "\u001b[1;33mW: \u001b[0mSkipping acquire of configured file 'main/source/Sources' as repository 'https://r2u.stat.illinois.edu/ubuntu jammy InRelease' does not seem to provide it (sources.list entry misspelt?)\u001b[0m\n",
      "tar: spark-3.2.1-bin-hadoop3.2.tgz: Cannot open: No such file or directory\n",
      "tar: Error is not recoverable: exiting now\n",
      "Requirement already satisfied: pyspark in /usr/local/lib/python3.11/dist-packages (3.5.5)\n",
      "Requirement already satisfied: py4j==0.10.9.7 in /usr/local/lib/python3.11/dist-packages (from pyspark) (0.10.9.7)\n",
      "Requirement already satisfied: py4j in /usr/local/lib/python3.11/dist-packages (0.10.9.7)\n"
     ]
    },
    {
     "data": {
      "text/html": [
       "\n",
       "            <div>\n",
       "                <p><b>SparkSession - in-memory</b></p>\n",
       "                \n",
       "        <div>\n",
       "            <p><b>SparkContext</b></p>\n",
       "\n",
       "            <p><a href=\"http://332c9156bb64:4040\">Spark UI</a></p>\n",
       "\n",
       "            <dl>\n",
       "              <dt>Version</dt>\n",
       "                <dd><code>v3.5.5</code></dd>\n",
       "              <dt>Master</dt>\n",
       "                <dd><code>local[*]</code></dd>\n",
       "              <dt>AppName</dt>\n",
       "                <dd><code>Our First Spark Example</code></dd>\n",
       "            </dl>\n",
       "        </div>\n",
       "        \n",
       "            </div>\n",
       "        "
      ],
      "text/plain": [
       "<pyspark.sql.session.SparkSession at 0x7a9482388850>"
      ]
     },
     "execution_count": 34,
     "metadata": {},
     "output_type": "execute_result"
    }
   ],
   "source": [
    "import findspark\n",
    "findspark.init()\n",
    "findspark.find()\n",
    "import pyspark\n",
    "from pyspark.sql import DataFrame, SparkSession\n",
    "from typing import List\n",
    "import pyspark.sql.types as T\n",
    "import pyspark.sql.functions as F\n",
    "spark= SparkSession \\\n",
    "       .builder \\\n",
    "       .appName(\"OpenFood\") \\\n",
    "       .getOrCreate()\n",
    "spark"
   ]
  },
  {
   "cell_type": "code",
   "execution_count": 35,
   "metadata": {
    "execution": {
     "iopub.execute_input": "2025-06-02T19:21:45.470770Z",
     "iopub.status.busy": "2025-06-02T19:21:45.470543Z",
     "iopub.status.idle": "2025-06-02T19:21:48.530782Z",
     "shell.execute_reply": "2025-06-02T19:21:48.530161Z",
     "shell.execute_reply.started": "2025-06-02T19:21:45.470744Z"
    },
    "trusted": true
   },
   "outputs": [
    {
     "name": "stdout",
     "output_type": "stream",
     "text": [
      "Requirement already satisfied: matplotlib in /usr/local/lib/python3.11/dist-packages (3.7.2)\n",
      "Requirement already satisfied: seaborn in /usr/local/lib/python3.11/dist-packages (0.12.2)\n",
      "Requirement already satisfied: wordcloud in /usr/local/lib/python3.11/dist-packages (1.9.4)\n",
      "Requirement already satisfied: contourpy>=1.0.1 in /usr/local/lib/python3.11/dist-packages (from matplotlib) (1.3.1)\n",
      "Requirement already satisfied: cycler>=0.10 in /usr/local/lib/python3.11/dist-packages (from matplotlib) (0.12.1)\n",
      "Requirement already satisfied: fonttools>=4.22.0 in /usr/local/lib/python3.11/dist-packages (from matplotlib) (4.57.0)\n",
      "Requirement already satisfied: kiwisolver>=1.0.1 in /usr/local/lib/python3.11/dist-packages (from matplotlib) (1.4.8)\n",
      "Requirement already satisfied: numpy>=1.20 in /usr/local/lib/python3.11/dist-packages (from matplotlib) (1.26.4)\n",
      "Requirement already satisfied: packaging>=20.0 in /usr/local/lib/python3.11/dist-packages (from matplotlib) (25.0)\n",
      "Requirement already satisfied: pillow>=6.2.0 in /usr/local/lib/python3.11/dist-packages (from matplotlib) (11.1.0)\n",
      "Requirement already satisfied: pyparsing<3.1,>=2.3.1 in /usr/local/lib/python3.11/dist-packages (from matplotlib) (3.0.9)\n",
      "Requirement already satisfied: python-dateutil>=2.7 in /usr/local/lib/python3.11/dist-packages (from matplotlib) (2.9.0.post0)\n",
      "Requirement already satisfied: pandas>=0.25 in /usr/local/lib/python3.11/dist-packages (from seaborn) (2.2.3)\n",
      "Requirement already satisfied: mkl_fft in /usr/local/lib/python3.11/dist-packages (from numpy>=1.20->matplotlib) (1.3.8)\n",
      "Requirement already satisfied: mkl_random in /usr/local/lib/python3.11/dist-packages (from numpy>=1.20->matplotlib) (1.2.4)\n",
      "Requirement already satisfied: mkl_umath in /usr/local/lib/python3.11/dist-packages (from numpy>=1.20->matplotlib) (0.1.1)\n",
      "Requirement already satisfied: mkl in /usr/local/lib/python3.11/dist-packages (from numpy>=1.20->matplotlib) (2025.1.0)\n",
      "Requirement already satisfied: tbb4py in /usr/local/lib/python3.11/dist-packages (from numpy>=1.20->matplotlib) (2022.1.0)\n",
      "Requirement already satisfied: mkl-service in /usr/local/lib/python3.11/dist-packages (from numpy>=1.20->matplotlib) (2.4.1)\n",
      "Requirement already satisfied: pytz>=2020.1 in /usr/local/lib/python3.11/dist-packages (from pandas>=0.25->seaborn) (2025.2)\n",
      "Requirement already satisfied: tzdata>=2022.7 in /usr/local/lib/python3.11/dist-packages (from pandas>=0.25->seaborn) (2025.2)\n",
      "Requirement already satisfied: six>=1.5 in /usr/local/lib/python3.11/dist-packages (from python-dateutil>=2.7->matplotlib) (1.17.0)\n",
      "Requirement already satisfied: intel-openmp<2026,>=2024 in /usr/local/lib/python3.11/dist-packages (from mkl->numpy>=1.20->matplotlib) (2024.2.0)\n",
      "Requirement already satisfied: tbb==2022.* in /usr/local/lib/python3.11/dist-packages (from mkl->numpy>=1.20->matplotlib) (2022.1.0)\n",
      "Requirement already satisfied: tcmlib==1.* in /usr/local/lib/python3.11/dist-packages (from tbb==2022.*->mkl->numpy>=1.20->matplotlib) (1.3.0)\n",
      "Requirement already satisfied: intel-cmplr-lib-rt in /usr/local/lib/python3.11/dist-packages (from mkl_umath->numpy>=1.20->matplotlib) (2024.2.0)\n",
      "Requirement already satisfied: intel-cmplr-lib-ur==2024.2.0 in /usr/local/lib/python3.11/dist-packages (from intel-openmp<2026,>=2024->mkl->numpy>=1.20->matplotlib) (2024.2.0)\n"
     ]
    }
   ],
   "source": [
    "!pip install matplotlib seaborn wordcloud"
   ]
  },
  {
   "cell_type": "markdown",
   "metadata": {},
   "source": [
    "# 2. Load Dataset\n",
    "\n",
    "Read the Open Food Facts dataset from a CSV file with tab-separated values."
   ]
  },
  {
   "cell_type": "code",
   "execution_count": 36,
   "metadata": {
    "execution": {
     "iopub.execute_input": "2025-06-02T19:21:48.532082Z",
     "iopub.status.busy": "2025-06-02T19:21:48.531778Z",
     "iopub.status.idle": "2025-06-02T19:22:45.677611Z",
     "shell.execute_reply": "2025-06-02T19:22:45.676755Z",
     "shell.execute_reply.started": "2025-06-02T19:21:48.532051Z"
    },
    "trusted": true
   },
   "outputs": [
    {
     "name": "stderr",
     "output_type": "stream",
     "text": [
      "                                                                                                    \r"
     ]
    }
   ],
   "source": [
    "df = spark.read.csv(\"/kaggle/input/bigdata/en.openfoodfacts.org.products.csv\", header=True, inferSchema=True, sep='\\t')"
   ]
  },
  {
   "cell_type": "markdown",
   "metadata": {},
   "source": [
    "# 3. Initial Data Exploration\n",
    "\n",
    "Check the dataset size to understand its scale."
   ]
  },
  {
   "cell_type": "code",
   "execution_count": 37,
   "metadata": {
    "execution": {
     "iopub.execute_input": "2025-06-02T19:22:45.680333Z",
     "iopub.status.busy": "2025-06-02T19:22:45.679753Z",
     "iopub.status.idle": "2025-06-02T19:23:02.691649Z",
     "shell.execute_reply": "2025-06-02T19:23:02.690876Z",
     "shell.execute_reply.started": "2025-06-02T19:22:45.680307Z"
    },
    "trusted": true
   },
   "outputs": [
    {
     "name": "stderr",
     "output_type": "stream",
     "text": [
      "[Stage 78:=========================================================================>  (80 + 3) / 83]\r"
     ]
    },
    {
     "name": "stdout",
     "output_type": "stream",
     "text": [
      "Rows: 3861422, Columns: 209\n"
     ]
    },
    {
     "name": "stderr",
     "output_type": "stream",
     "text": [
      "                                                                                                    \r"
     ]
    }
   ],
   "source": [
    "num_rows = df.count()\n",
    "num_cols = len(df.columns)\n",
    "print(f\"Rows: {num_rows}, Columns: {num_cols}\")"
   ]
  },
  {
   "cell_type": "markdown",
   "metadata": {},
   "source": [
    "# 4. Initial Data Filtering\n",
    "\n",
    "Filter rows with non-null critical fields and limit to 235,000 rows for memory efficiency."
   ]
  },
  {
   "cell_type": "code",
   "execution_count": 38,
   "metadata": {
    "execution": {
     "iopub.execute_input": "2025-06-02T19:23:02.692791Z",
     "iopub.status.busy": "2025-06-02T19:23:02.692578Z",
     "iopub.status.idle": "2025-06-02T19:23:40.173981Z",
     "shell.execute_reply": "2025-06-02T19:23:40.171533Z",
     "shell.execute_reply.started": "2025-06-02T19:23:02.692775Z"
    },
    "trusted": true
   },
   "outputs": [
    {
     "name": "stderr",
     "output_type": "stream",
     "text": [
      "[Stage 81:==========================================================================> (81 + 2) / 83]\r"
     ]
    },
    {
     "name": "stdout",
     "output_type": "stream",
     "text": [
      "Number of rows after limiting: 235000\n"
     ]
    },
    {
     "name": "stderr",
     "output_type": "stream",
     "text": [
      "                                                                                                    \r"
     ]
    }
   ],
   "source": [
    "from pyspark.sql.functions import col\n",
    "#first filter out rows with critical missing data\n",
    "df = df.filter(\n",
    "    (col(\"product_name\").isNotNull()) & \n",
    "    (col(\"ingredients_text\").isNotNull()) & \n",
    "    (col(\"categories\").isNotNull())\n",
    ")\n",
    "\n",
    "df = df.limit(235000)\n",
    "\n",
    "#verify the count\n",
    "print(f\"Number of rows after limiting: {df.count()}\")"
   ]
  },
  {
   "cell_type": "code",
   "execution_count": 39,
   "metadata": {
    "execution": {
     "iopub.execute_input": "2025-06-02T19:23:40.175360Z",
     "iopub.status.busy": "2025-06-02T19:23:40.175081Z",
     "iopub.status.idle": "2025-06-02T19:24:15.954170Z",
     "shell.execute_reply": "2025-06-02T19:24:15.953443Z",
     "shell.execute_reply.started": "2025-06-02T19:23:40.175335Z"
    },
    "trusted": true
   },
   "outputs": [
    {
     "name": "stderr",
     "output_type": "stream",
     "text": [
      "[Stage 84:==========================================================================> (81 + 2) / 83]\r"
     ]
    },
    {
     "name": "stdout",
     "output_type": "stream",
     "text": [
      "+---------------------------------------+\n",
      "|countries                              |\n",
      "+---------------------------------------+\n",
      "|Germany                                |\n",
      "|Spanien, Germany                       |\n",
      "|Brasil                                 |\n",
      "|Griechenland, Germany                  |\n",
      "|Brasilien, Germany                     |\n",
      "|Frankreich, Germany                    |\n",
      "|en:Switzerland                         |\n",
      "|France                                 |\n",
      "|en:France                              |\n",
      "|Belgien, Germany                       |\n",
      "|Germany, United States, en:france      |\n",
      "|United States                          |\n",
      "|FR                                     |\n",
      "|en:Ireland                             |\n",
      "|United Kingdom, en:france              |\n",
      "|Belgium                                |\n",
      "|spain                                  |\n",
      "|en:Germany                             |\n",
      "|Germany,en:germany                     |\n",
      "|comidosil                              |\n",
      "|brasil                                 |\n",
      "|Exland                                 |\n",
      "|Frankreich, Gabun, Germany             |\n",
      "|Malaysia,Germany,                      |\n",
      "|Italien, Germany                       |\n",
      "|Vereinigte Staaten von Amerika, Germany|\n",
      "|UK                                     |\n",
      "|Mexiko, Germany                        |\n",
      "|en:Spain                               |\n",
      "|Francia,España                         |\n",
      "|en:fr                                  |\n",
      "|en:United Kingdom                      |\n",
      "|United Kingdom                         |\n",
      "|en:Mexico                              |\n",
      "|en:germany                             |\n",
      "|Irland, Germany                        |\n",
      "|en:FR                                  |\n",
      "|Australia                              |\n",
      "|en:United States                       |\n",
      "|en:france                              |\n",
      "+---------------------------------------+\n",
      "only showing top 40 rows\n",
      "\n"
     ]
    },
    {
     "name": "stderr",
     "output_type": "stream",
     "text": [
      "                                                                                                    \r"
     ]
    }
   ],
   "source": [
    "df.select(\"countries\").distinct().show(40, truncate=False)"
   ]
  },
  {
   "cell_type": "markdown",
   "metadata": {},
   "source": [
    "# 5. Data Cleaning Function\n",
    "\n",
    "Define a comprehensive data cleaning function optimized for Kaggle's memory constraints."
   ]
  },
  {
   "cell_type": "code",
   "execution_count": 40,
   "metadata": {
    "execution": {
     "iopub.execute_input": "2025-06-02T19:24:15.960388Z",
     "iopub.status.busy": "2025-06-02T19:24:15.956434Z",
     "iopub.status.idle": "2025-06-02T19:24:15.965027Z",
     "shell.execute_reply": "2025-06-02T19:24:15.964188Z",
     "shell.execute_reply.started": "2025-06-02T19:24:15.960362Z"
    },
    "trusted": true
   },
   "outputs": [],
   "source": [
    "import findspark\n",
    "findspark.init()\n",
    "from pyspark.sql import SparkSession\n",
    "from pyspark.sql.functions import col, trim, lower, lit\n",
    "from pyspark.ml.feature import Tokenizer, StopWordsRemover, CountVectorizer\n",
    "from pyspark.ml import Pipeline"
   ]
  },
  {
   "cell_type": "code",
   "execution_count": 41,
   "metadata": {
    "execution": {
     "iopub.execute_input": "2025-06-02T19:24:15.966936Z",
     "iopub.status.busy": "2025-06-02T19:24:15.966092Z",
     "iopub.status.idle": "2025-06-02T19:35:29.685269Z",
     "shell.execute_reply": "2025-06-02T19:35:29.683644Z",
     "shell.execute_reply.started": "2025-06-02T19:24:15.966888Z"
    },
    "trusted": true
   },
   "outputs": [
    {
     "name": "stderr",
     "output_type": "stream",
     "text": [
      "                                                                                                    \r"
     ]
    },
    {
     "name": "stdout",
     "output_type": "stream",
     "text": [
      "Initial dataset size: 235,000 records\n",
      "Selected 17 columns\n"
     ]
    },
    {
     "name": "stderr",
     "output_type": "stream",
     "text": [
      "                                                                                                    \r"
     ]
    },
    {
     "name": "stdout",
     "output_type": "stream",
     "text": [
      "After mandatory filters: 235,000 records (100.0% retained)\n"
     ]
    },
    {
     "name": "stderr",
     "output_type": "stream",
     "text": [
      "                                                                                                    \r"
     ]
    },
    {
     "name": "stdout",
     "output_type": "stream",
     "text": [
      "Median values for imputation:\n",
      "- nutriscore_score: 13.00\n",
      "- energy_100g: 1142.00\n",
      "- fat_100g: 4.58\n",
      "- saturated-fat_100g: 1.41\n",
      "- carbohydrates_100g: 24.24\n",
      "- sugars_100g: 6.00\n",
      "- fiber_100g: 1.30\n",
      "- proteins_100g: 4.42\n",
      "- salt_100g: 0.36\n"
     ]
    },
    {
     "name": "stderr",
     "output_type": "stream",
     "text": [
      "[Stage 122:>                                                                            (0 + 1) / 1]\r"
     ]
    },
    {
     "name": "stdout",
     "output_type": "stream",
     "text": [
      "Final cleaned dataset: 228,361 records (97.2% of original)\n"
     ]
    },
    {
     "name": "stderr",
     "output_type": "stream",
     "text": [
      "                                                                                                    \r"
     ]
    }
   ],
   "source": [
    "from pyspark.sql.functions import col, trim, lower, regexp_replace, lit, when, coalesce, row_number\n",
    "from pyspark.sql.window import Window\n",
    "from pyspark.sql.types import DoubleType\n",
    "from pyspark.sql import SparkSession\n",
    "\n",
    "def clean_openfoodfacts_data(df):\n",
    "    \"\"\"\n",
    "    Kaggle-optimized data cleaning function for Open Food Facts data \n",
    "    (without country treatment).\n",
    "    \n",
    "    Features:\n",
    "    - Memory-efficient operations\n",
    "    - Progressive filtering to reduce dataset size early\n",
    "    - Kaggle-specific optimizations\n",
    "    - Detailed logging for Kaggle notebooks\n",
    "    \"\"\"\n",
    "    \n",
    "    initial_count = df.count()\n",
    "    print(f\"Initial dataset size: {initial_count:,} records\")\n",
    "    \n",
    "    #Column Selection\n",
    "    relevant_columns = [\n",
    "        'product_name', 'brands', 'categories', \n",
    "        'countries', 'ingredients_text', 'allergens', \n",
    "        'nutriscore_score', 'nutriscore_grade', \n",
    "        'energy_100g', 'fat_100g', 'saturated-fat_100g', \n",
    "        'carbohydrates_100g', 'sugars_100g', 'fiber_100g', \n",
    "        'proteins_100g', 'salt_100g', 'image_url'\n",
    "    ]\n",
    "    available_columns = [c for c in relevant_columns if c in df.columns]\n",
    "    df = df.select(available_columns)\n",
    "    print(f\"Selected {len(available_columns)} columns\")\n",
    "    \n",
    "    #Early Filtering\n",
    "    df = df.filter(\n",
    "        col(\"product_name\").isNotNull() |\n",
    "        col(\"ingredients_text\").isNotNull() |\n",
    "        col(\"categories\").isNotNull()\n",
    "    )\n",
    "    df = df.filter(\n",
    "        col(\"product_name\").isNotNull() &\n",
    "        col(\"ingredients_text\").isNotNull() &\n",
    "        (col(\"ingredients_text\") != \"\") &\n",
    "        col(\"categories\").isNotNull()\n",
    "    )\n",
    "    \n",
    "    post_filter_count = df.count()\n",
    "    print(f\"After mandatory filters: {post_filter_count:,} records ({post_filter_count/initial_count:.1%} retained)\")\n",
    "    \n",
    "    #text Cleaning\n",
    "    text_columns = [c for c in ['product_name', 'ingredients_text', 'categories', \n",
    "                                'countries', 'allergens', 'generic_name', 'brands'] \n",
    "                    if c in df.columns]\n",
    "    for col_name in text_columns:\n",
    "        df = df.withColumn(col_name, \n",
    "            regexp_replace(\n",
    "                regexp_replace(\n",
    "                    trim(lower(col(col_name))),\n",
    "                    \"[^a-zA-Z0-9\\\\s-]\", \"\"),\n",
    "                \"\\\\s+\", \" \"))\n",
    "        df = df.withColumn(col_name, \n",
    "            when((col(col_name) == \"\") | (col(col_name).isNull()), None)\n",
    "            .otherwise(col(col_name)))\n",
    "    \n",
    "    df = df.filter(col(\"ingredients_text\").isNotNull())\n",
    "    \n",
    "    #Numerical Imputation\n",
    "    numerical_cols = [c for c in [\n",
    "        'nutriscore_score', 'energy_100g', 'fat_100g', 'saturated-fat_100g',\n",
    "        'carbohydrates_100g', 'sugars_100g', 'fiber_100g', 'proteins_100g', 'salt_100g'\n",
    "    ] if c in df.columns]\n",
    "    \n",
    "    sample_frac = 0.1\n",
    "    numerical_medians = {}\n",
    "    for col_name in numerical_cols:\n",
    "        try:\n",
    "            median_value = df.sample(fraction=sample_frac).stat.approxQuantile(col_name, [0.5], 0.01)[0]\n",
    "            numerical_medians[col_name] = median_value\n",
    "        except:\n",
    "            numerical_medians[col_name] = 0.0\n",
    "    \n",
    "    print(\"Median values for imputation:\")\n",
    "    for k, v in numerical_medians.items():\n",
    "        print(f\"- {k}: {v:.2f}\")\n",
    "    \n",
    "    for col_name, median_value in numerical_medians.items():\n",
    "        df = df.withColumn(col_name, \n",
    "            coalesce(col(col_name).cast(DoubleType()), lit(median_value)))\n",
    "    \n",
    "    #Deduplication\n",
    "    df = df.dropDuplicates()\n",
    "    if 'code' in df.columns and 'product_name' in df.columns:\n",
    "        windowSpec = Window.partitionBy(\"product_name\", \"brands\").orderBy(col(\"code\").desc())\n",
    "        df = df.withColumn(\"row_num\", row_number().over(windowSpec))\n",
    "        df = df.filter(col(\"row_num\") == 1).drop(\"row_num\")\n",
    "    \n",
    "    if \"allergens\" in df.columns:\n",
    "        df = df.withColumn(\"allergens\", \n",
    "            when(col(\"allergens\").isNull(), lit(\"unknown\")).otherwise(col(\"allergens\")))\n",
    "    \n",
    "    final_count = df.count()\n",
    "    print(f\"Final cleaned dataset: {final_count:,} records ({final_count/initial_count:.1%} of original)\")\n",
    "    \n",
    "    return df\n",
    "\n",
    "df = clean_openfoodfacts_data(df).cache()"
   ]
  },
  {
   "cell_type": "code",
   "execution_count": 42,
   "metadata": {
    "execution": {
     "iopub.execute_input": "2025-06-02T19:35:29.686310Z",
     "iopub.status.busy": "2025-06-02T19:35:29.686026Z",
     "iopub.status.idle": "2025-06-02T19:36:43.823002Z",
     "shell.execute_reply": "2025-06-02T19:36:43.822242Z",
     "shell.execute_reply.started": "2025-06-02T19:35:29.686288Z"
    },
    "trusted": true
   },
   "outputs": [
    {
     "name": "stderr",
     "output_type": "stream",
     "text": [
      "                                                                                                    \r"
     ]
    },
    {
     "data": {
      "text/plain": [
       "228361"
      ]
     },
     "execution_count": 42,
     "metadata": {},
     "output_type": "execute_result"
    }
   ],
   "source": [
    "df.count()"
   ]
  },
  {
   "cell_type": "code",
   "execution_count": 43,
   "metadata": {
    "execution": {
     "iopub.execute_input": "2025-06-02T19:36:43.827278Z",
     "iopub.status.busy": "2025-06-02T19:36:43.827008Z",
     "iopub.status.idle": "2025-06-02T19:36:44.068770Z",
     "shell.execute_reply": "2025-06-02T19:36:44.067891Z",
     "shell.execute_reply.started": "2025-06-02T19:36:43.827257Z"
    },
    "trusted": true
   },
   "outputs": [
    {
     "name": "stdout",
     "output_type": "stream",
     "text": [
      "+--------------------+\n",
      "|countries           |\n",
      "+--------------------+\n",
      "|brasilien germany   |\n",
      "|frankreich germany  |\n",
      "|enfrance            |\n",
      "|fr                  |\n",
      "|france              |\n",
      "|franciaespaa        |\n",
      "|germany             |\n",
      "|belgium             |\n",
      "|united kingdom      |\n",
      "|united states       |\n",
      "|india               |\n",
      "|brasile             |\n",
      "|argentina           |\n",
      "|espaa               |\n",
      "|franceespagne       |\n",
      "|frankreich          |\n",
      "|francetats-unis     |\n",
      "|enunited kingdom    |\n",
      "|stati uniti damerica|\n",
      "|ireland             |\n",
      "+--------------------+\n",
      "only showing top 20 rows\n",
      "\n"
     ]
    }
   ],
   "source": [
    "df.select(\"countries\").distinct().show(20, truncate=False)"
   ]
  },
  {
   "cell_type": "code",
   "execution_count": 44,
   "metadata": {
    "execution": {
     "iopub.execute_input": "2025-06-02T19:36:44.070043Z",
     "iopub.status.busy": "2025-06-02T19:36:44.069747Z",
     "iopub.status.idle": "2025-06-02T19:36:44.100135Z",
     "shell.execute_reply": "2025-06-02T19:36:44.099395Z",
     "shell.execute_reply.started": "2025-06-02T19:36:44.070014Z"
    },
    "trusted": true
   },
   "outputs": [],
   "source": [
    "df = df.dropna(subset=[\"product_name\", \"categories\", \"nutriscore_grade\"])\n",
    "df = df.fillna({\"brands\": \"Not specified\"})\n",
    "df = df.fillna({\"countries\" : \"Not specified\"})"
   ]
  },
  {
   "cell_type": "code",
   "execution_count": 45,
   "metadata": {
    "execution": {
     "iopub.execute_input": "2025-06-02T19:36:44.101604Z",
     "iopub.status.busy": "2025-06-02T19:36:44.100967Z",
     "iopub.status.idle": "2025-06-02T19:36:44.594767Z",
     "shell.execute_reply": "2025-06-02T19:36:44.593929Z",
     "shell.execute_reply.started": "2025-06-02T19:36:44.101580Z"
    },
    "trusted": true
   },
   "outputs": [
    {
     "name": "stdout",
     "output_type": "stream",
     "text": [
      "+-------+------------------+------------------+-----------------+-----------------+\n",
      "|summary|  nutriscore_score|       energy_100g|         fat_100g|      sugars_100g|\n",
      "+-------+------------------+------------------+-----------------+-----------------+\n",
      "|  count|            228333|            228333|           228333|           228333|\n",
      "|   mean|12.012437974362006|1668.7419376880305|  16.577266595995|19.77285818307647|\n",
      "| stddev|10.105153016963412|   87584.751513345|43.59719551130757|46.06633652360065|\n",
      "|    min|             -17.0|               0.0|              0.0|            -1.45|\n",
      "|    max|              55.0|           4.184E7|           1670.0|           1900.0|\n",
      "+-------+------------------+------------------+-----------------+-----------------+\n",
      "\n"
     ]
    }
   ],
   "source": [
    "numerical_cols = ['nutriscore_score', 'energy_100g', 'fat_100g', 'sugars_100g']\n",
    "df.select(numerical_cols).describe().show()"
   ]
  },
  {
   "cell_type": "code",
   "execution_count": 46,
   "metadata": {
    "execution": {
     "iopub.execute_input": "2025-06-02T19:36:44.596119Z",
     "iopub.status.busy": "2025-06-02T19:36:44.595838Z",
     "iopub.status.idle": "2025-06-02T19:36:45.096029Z",
     "shell.execute_reply": "2025-06-02T19:36:45.094592Z",
     "shell.execute_reply.started": "2025-06-02T19:36:44.596095Z"
    },
    "trusted": true
   },
   "outputs": [
    {
     "name": "stdout",
     "output_type": "stream",
     "text": [
      "-RECORD 0--------------------\n",
      " product_name       | 0      \n",
      " brands             | 0      \n",
      " categories         | 0      \n",
      " countries          | 0      \n",
      " ingredients_text   | 0      \n",
      " allergens          | 0      \n",
      " nutriscore_score   | 0      \n",
      " nutriscore_grade   | 0      \n",
      " energy_100g        | 0      \n",
      " fat_100g           | 0      \n",
      " saturated-fat_100g | 0      \n",
      " carbohydrates_100g | 0      \n",
      " sugars_100g        | 0      \n",
      " fiber_100g         | 0      \n",
      " proteins_100g      | 0      \n",
      " salt_100g          | 0      \n",
      " image_url          | 164356 \n",
      "\n"
     ]
    }
   ],
   "source": [
    "from pyspark.sql.functions import col, sum\n",
    "\n",
    "#calculate null counts per column\n",
    "null_counts = df.select([sum(col(c).isNull().cast(\"int\")).alias(c) for c in df.columns])\n",
    "null_counts.show(vertical=True)"
   ]
  },
  {
   "cell_type": "markdown",
   "metadata": {},
   "source": [
    "# 6. Exploratory Data Analysis (EDA)\n",
    "\n",
    "affeter cleaning "
   ]
  },
  {
   "cell_type": "code",
   "execution_count": 47,
   "metadata": {
    "execution": {
     "iopub.execute_input": "2025-06-02T19:36:45.097786Z",
     "iopub.status.busy": "2025-06-02T19:36:45.097302Z",
     "iopub.status.idle": "2025-06-02T19:36:45.142616Z",
     "shell.execute_reply": "2025-06-02T19:36:45.141992Z",
     "shell.execute_reply.started": "2025-06-02T19:36:45.097761Z"
    },
    "trusted": true
   },
   "outputs": [],
   "source": [
    "from pyspark.sql.functions import split, explode, trim\n",
    "\n",
    "#explode allergens into separate rows\n",
    "allergen_df = (\n",
    "    df\n",
    "    .filter(col(\"allergens\").isNotNull())\n",
    "    .withColumn(\"allergen\", explode(split(col(\"allergens\"), \",\")))\n",
    "    .withColumn(\"allergen\", trim(col(\"allergen\")))\n",
    "    .filter(col(\"allergen\") != \"\")  # Remove any blank entries\n",
    ")"
   ]
  },
  {
   "cell_type": "code",
   "execution_count": 48,
   "metadata": {
    "execution": {
     "iopub.execute_input": "2025-06-02T19:36:45.143670Z",
     "iopub.status.busy": "2025-06-02T19:36:45.143430Z",
     "iopub.status.idle": "2025-06-02T19:36:45.175463Z",
     "shell.execute_reply": "2025-06-02T19:36:45.174964Z",
     "shell.execute_reply.started": "2025-06-02T19:36:45.143650Z"
    },
    "trusted": true
   },
   "outputs": [],
   "source": [
    "allergen_counts = (\n",
    "    allergen_df.groupBy(\"allergen\")\n",
    "    .count()\n",
    "    .orderBy(col(\"count\").desc())\n",
    ")"
   ]
  },
  {
   "cell_type": "code",
   "execution_count": 49,
   "metadata": {
    "execution": {
     "iopub.execute_input": "2025-06-02T19:36:45.176758Z",
     "iopub.status.busy": "2025-06-02T19:36:45.176145Z",
     "iopub.status.idle": "2025-06-02T19:36:45.702848Z",
     "shell.execute_reply": "2025-06-02T19:36:45.702157Z",
     "shell.execute_reply.started": "2025-06-02T19:36:45.176741Z"
    },
    "trusted": true
   },
   "outputs": [],
   "source": [
    "top_n = 10  #top 10 allergies\n",
    "allergen_pd = allergen_counts.limit(top_n).toPandas()\n"
   ]
  },
  {
   "cell_type": "code",
   "execution_count": 50,
   "metadata": {
    "execution": {
     "iopub.execute_input": "2025-06-02T19:36:45.703830Z",
     "iopub.status.busy": "2025-06-02T19:36:45.703627Z",
     "iopub.status.idle": "2025-06-02T19:36:46.446831Z",
     "shell.execute_reply": "2025-06-02T19:36:46.446149Z",
     "shell.execute_reply.started": "2025-06-02T19:36:45.703815Z"
    },
    "trusted": true
   },
   "outputs": [
    {
     "data": {
      "image/png": "[encoded data removed]",
      "text/plain": [
       "<Figure size 1200x600 with 1 Axes>"
      ]
     },
     "metadata": {},
     "output_type": "display_data"
    }
   ],
   "source": [
    "import matplotlib.pyplot as plt\n",
    "import seaborn as sns\n",
    "\n",
    "plt.figure(figsize=(12, 6))\n",
    "sns.barplot(data=allergen_pd, x=\"count\", y=\"allergen\", palette=\"rocket\")\n",
    "\n",
    "plt.title(f\"Top {top_n} Allergens in Open Food Facts Dataset\")\n",
    "plt.xlabel(\"Frequency\")\n",
    "plt.ylabel(\"Allergen\")\n",
    "plt.tight_layout()\n",
    "plt.show()"
   ]
  },
  {
   "cell_type": "code",
   "execution_count": 51,
   "metadata": {
    "execution": {
     "iopub.execute_input": "2025-06-02T19:36:46.448562Z",
     "iopub.status.busy": "2025-06-02T19:36:46.447683Z",
     "iopub.status.idle": "2025-06-02T19:36:46.507910Z",
     "shell.execute_reply": "2025-06-02T19:36:46.507426Z",
     "shell.execute_reply.started": "2025-06-02T19:36:46.448541Z"
    },
    "trusted": true
   },
   "outputs": [],
   "source": [
    "import matplotlib.pyplot as plt\n",
    "import seaborn as sns\n",
    "from wordcloud import WordCloud\n",
    "import pyspark.sql.functions as F"
   ]
  },
  {
   "cell_type": "code",
   "execution_count": 52,
   "metadata": {
    "execution": {
     "iopub.execute_input": "2025-06-02T19:36:46.508772Z",
     "iopub.status.busy": "2025-06-02T19:36:46.508474Z",
     "iopub.status.idle": "2025-06-02T19:36:47.034205Z",
     "shell.execute_reply": "2025-06-02T19:36:47.033435Z",
     "shell.execute_reply.started": "2025-06-02T19:36:46.508754Z"
    },
    "trusted": true
   },
   "outputs": [
    {
     "data": {
      "image/png": "[encoded data removed]",
      "text/plain": [
       "<Figure size 1000x500 with 1 Axes>"
      ]
     },
     "metadata": {},
     "output_type": "display_data"
    }
   ],
   "source": [
    "#split countries string and explode into rows\n",
    "country_counts = df.withColumn(\"country\", F.explode(F.split(F.lower(\"countries\"), \",\"))) \\\n",
    "    .groupBy(\"country\").count().orderBy(\"count\", ascending=False).limit(10).toPandas()\n",
    "\n",
    "plt.figure(figsize=(10, 5))\n",
    "sns.barplot(x=\"count\", y=\"country\", data=country_counts, palette=\"rocket\")\n",
    "plt.title(\"Top 10 Countries by Product Count\")\n",
    "plt.show()"
   ]
  },
  {
   "cell_type": "code",
   "execution_count": 53,
   "metadata": {
    "execution": {
     "iopub.execute_input": "2025-06-02T19:36:47.035316Z",
     "iopub.status.busy": "2025-06-02T19:36:47.035035Z",
     "iopub.status.idle": "2025-06-02T19:36:47.445849Z",
     "shell.execute_reply": "2025-06-02T19:36:47.445127Z",
     "shell.execute_reply.started": "2025-06-02T19:36:47.035291Z"
    },
    "trusted": true
   },
   "outputs": [
    {
     "data": {
      "image/png": "[encoded data removed]",
      "text/plain": [
       "<Figure size 800x400 with 1 Axes>"
      ]
     },
     "metadata": {},
     "output_type": "display_data"
    }
   ],
   "source": [
    "#group by Nutri-Score grade and count\n",
    "nutri_counts = df.groupBy(\"nutriscore_grade\").count().orderBy(\"count\", ascending=False).toPandas()\n",
    "\n",
    "plt.figure(figsize=(8, 4))\n",
    "sns.barplot(x=\"nutriscore_grade\", y=\"count\", data=nutri_counts, palette=\"viridis\")\n",
    "plt.title(\"Distribution of Nutri-Score Grades\")\n",
    "plt.xlabel(\"Nutri-Score Grade\")\n",
    "plt.ylabel(\"Count\")\n",
    "plt.show()"
   ]
  },
  {
   "cell_type": "code",
   "execution_count": 54,
   "metadata": {
    "execution": {
     "iopub.execute_input": "2025-06-02T19:36:47.446818Z",
     "iopub.status.busy": "2025-06-02T19:36:47.446616Z",
     "iopub.status.idle": "2025-06-02T19:36:49.160650Z",
     "shell.execute_reply": "2025-06-02T19:36:49.160007Z",
     "shell.execute_reply.started": "2025-06-02T19:36:47.446802Z"
    },
    "trusted": true
   },
   "outputs": [
    {
     "name": "stderr",
     "output_type": "stream",
     "text": [
      "/usr/local/lib/python3.11/dist-packages/seaborn/_oldcore.py:1119: FutureWarning: use_inf_as_na option is deprecated and will be removed in a future version. Convert inf values to NaN before operating instead.\n",
      "  with pd.option_context('mode.use_inf_as_na', True):\n",
      "/usr/local/lib/python3.11/dist-packages/seaborn/_oldcore.py:1119: FutureWarning: use_inf_as_na option is deprecated and will be removed in a future version. Convert inf values to NaN before operating instead.\n",
      "  with pd.option_context('mode.use_inf_as_na', True):\n",
      "/usr/local/lib/python3.11/dist-packages/seaborn/_oldcore.py:1119: FutureWarning: use_inf_as_na option is deprecated and will be removed in a future version. Convert inf values to NaN before operating instead.\n",
      "  with pd.option_context('mode.use_inf_as_na', True):\n",
      "/usr/local/lib/python3.11/dist-packages/seaborn/_oldcore.py:1119: FutureWarning: use_inf_as_na option is deprecated and will be removed in a future version. Convert inf values to NaN before operating instead.\n",
      "  with pd.option_context('mode.use_inf_as_na', True):\n"
     ]
    },
    {
     "data": {
      "image/png": "[encoded data removed]",
      "text/plain": [
       "<Figure size 1200x800 with 4 Axes>"
      ]
     },
     "metadata": {},
     "output_type": "display_data"
    }
   ],
   "source": [
    "#sample a fraction of data for plotting (for performance)\n",
    "sample_df = df.select(numerical_cols).sample(0.1).toPandas()\n",
    "\n",
    "plt.figure(figsize=(12, 8))\n",
    "for i, col in enumerate(numerical_cols, 1):\n",
    "    plt.subplot(2, 2, i)\n",
    "    sns.histplot(sample_df[col], kde=True, bins=30)\n",
    "    plt.title(f\"Distribution of {col}\")\n",
    "plt.tight_layout()\n",
    "plt.show()"
   ]
  },
  {
   "cell_type": "code",
   "execution_count": 55,
   "metadata": {
    "execution": {
     "iopub.execute_input": "2025-06-02T19:36:49.162057Z",
     "iopub.status.busy": "2025-06-02T19:36:49.161543Z",
     "iopub.status.idle": "2025-06-02T19:37:30.171647Z",
     "shell.execute_reply": "2025-06-02T19:37:30.170784Z",
     "shell.execute_reply.started": "2025-06-02T19:36:49.162031Z"
    },
    "trusted": true
   },
   "outputs": [
    {
     "name": "stderr",
     "output_type": "stream",
     "text": [
      "[nltk_data] Downloading package punkt to /usr/share/nltk_data...\n",
      "[nltk_data]   Package punkt is already up-to-date!\n",
      "                                                                                                    \r"
     ]
    },
    {
     "name": "stdout",
     "output_type": "stream",
     "text": [
      "Optimized vocabulary size: 9291\n"
     ]
    },
    {
     "name": "stderr",
     "output_type": "stream",
     "text": [
      "25/06/02 19:37:17 WARN MemoryStore: Not enough space to cache rdd_459_0 in memory! (computed 253.4 MiB so far)\n",
      "25/06/02 19:37:17 WARN BlockManager: Persisting block rdd_459_0 to disk instead.\n",
      "25/06/02 19:37:29 WARN MemoryStore: Not enough space to cache rdd_459_0 in memory! (computed 440.5 MiB so far)\n",
      "[Stage 153:>                                                                            (0 + 1) / 1]\r"
     ]
    },
    {
     "name": "stdout",
     "output_type": "stream",
     "text": [
      "+-----------------------------+----------------------------------------------------------------------------------------------------------------------------------------------------------------------------------------------------------------------------------------------------------------------------------------------------------------------------------------------------------------------------------------------------------------------------------------------------------------------------------------------------------------------------------------------------------------------------------------------------------------------------------------------------------------------------------------------------------------------------------------------------------------------------------------------------------------------------------------------------------------------------------------------------------------------------------------------------------------------------------------------------------------------------------------------------------------------------------------------------------------------------------------------------------------------------------------------------------------------------------------------------------------------------------------------------------------------------------------------------------------------------------------------------------------------------------------------------------------------------------------------------+-------------------------------------------------------------------------------------------------------------------------------------------------------------------------------------------------------------------------------------------------------------------------------------------------------------------------------------------------------------------------------------------------------------------------------------------------------------------------------------------------------------------------------------------------------------------------------------------------------------------------------------------------------------------------------------------------------------------------------------------------------------------------------------------------------------------------------------------------------------------------------------------------------------------------------------------------------------------------------------------------------------------------------------------------------------------------------------------------------------------------------------------------------------------------------------------------------------------------------------------------------------------------------------------------------------------------------------------------------------------------------------------------------------------------------------------------------------------------------------------------------------------------------------------+--------------------------------------------------------------------------------------------------------------------------------------------------------------------------------------------------------------------------------------------------------------------------------------------------------------------------------------------------------------------------------------------------------------------------------------------------------------------------------------------------------------------------------------------------------------------------------------------------------------------------------------------------------------------------------------------------------------------------------------------+\n",
      "|product_name                 |ingredients_text                                                                                                                                                                                                                                                                                                                                                                                                                                                                                                                                                                                                                                                                                                                                                                                                                                                                                                                                                                                                                                                                                                                                                                                                                                                                                                                                                                                                                                                                                    |filtered_tokens                                                                                                                                                                                                                                                                                                                                                                                                                                                                                                                                                                                                                                                                                                                                                                                                                                                                                                                                                                                                                                                                                                                                                                                                                                                                                                                                                                                                                                                                                                                            |norm_features                                                                                                                                                                                                                                                                                                                                                                                                                                                                                                                                                                                                                                                                                                                               |\n",
      "+-----------------------------+----------------------------------------------------------------------------------------------------------------------------------------------------------------------------------------------------------------------------------------------------------------------------------------------------------------------------------------------------------------------------------------------------------------------------------------------------------------------------------------------------------------------------------------------------------------------------------------------------------------------------------------------------------------------------------------------------------------------------------------------------------------------------------------------------------------------------------------------------------------------------------------------------------------------------------------------------------------------------------------------------------------------------------------------------------------------------------------------------------------------------------------------------------------------------------------------------------------------------------------------------------------------------------------------------------------------------------------------------------------------------------------------------------------------------------------------------------------------------------------------------+-------------------------------------------------------------------------------------------------------------------------------------------------------------------------------------------------------------------------------------------------------------------------------------------------------------------------------------------------------------------------------------------------------------------------------------------------------------------------------------------------------------------------------------------------------------------------------------------------------------------------------------------------------------------------------------------------------------------------------------------------------------------------------------------------------------------------------------------------------------------------------------------------------------------------------------------------------------------------------------------------------------------------------------------------------------------------------------------------------------------------------------------------------------------------------------------------------------------------------------------------------------------------------------------------------------------------------------------------------------------------------------------------------------------------------------------------------------------------------------------------------------------------------------------+--------------------------------------------------------------------------------------------------------------------------------------------------------------------------------------------------------------------------------------------------------------------------------------------------------------------------------------------------------------------------------------------------------------------------------------------------------------------------------------------------------------------------------------------------------------------------------------------------------------------------------------------------------------------------------------------------------------------------------------------+\n",
      "|entrecesteack - highland beef|organic ashwagandha ksm-66 vegetable capsule shell hydroxypropylmethyl cellulose organic black pepper                                                                                                                                                                                                                                                                                                                                                                                                                                                                                                                                                                                                                                                                                                                                                                                                                                                                                                                                                                                                                                                                                                                                                                                                                                                                                                                                                                                               |[organic, ashwagandha, ksm-66, vegetable, capsule, shell, hydroxypropylmethyl, cellulose, organic, black, pepper]                                                                                                                                                                                                                                                                                                                                                                                                                                                                                                                                                                                                                                                                                                                                                                                                                                                                                                                                                                                                                                                                                                                                                                                                                                                                                                                                                                                                                          |(9291,[11,42,68,110,143,1723,2965,5585],[0.30016584000551744,0.11246913929138617,0.15071612552222405,0.1714944404677581,0.18134240828876014,0.44725850119511745,0.5190313319825025,0.5854969752972732])                                                                                                                                                                                                                                                                                                                                                                                                                                                                                                                                     |\n",
      "|natual energy boost          |farine de bl 33 sucre huile de colza ufs de poules leves en plein air 18 sirop de glucose-fructose un stabilisant glycrol poudres lever carbonates dammonium-carbonates de sodium - citrates de sodium bl sel gluten de bl lait crm en poudre fibres vgtales arme naturel                                                                                                                                                                                                                                                                                                                                                                                                                                                                                                                                                                                                                                                                                                                                                                                                                                                                                                                                                                                                                                                                                                                                                                                                                           |[farine, sucre, huile, colza, ufs, poules, leves, plein, air, sirop, glucose-fructose, stabilisant, glycrol, poudres, lever, carbonates, dammonium-carbonates, sodium, citrates, sodium, sel, gluten, lait, crm, poudre, fibres, vgtales, arme, naturel]                                                                                                                                                                                                                                                                                                                                                                                                                                                                                                                                                                                                                                                                                                                                                                                                                                                                                                                                                                                                                                                                                                                                                                                                                                                                                   |(9291,[9,127,303,317,336,346,368,403,501,548,569,685,720,789,1174,1294,1363,1390,1403,1455,1604,1622,1636,1721,2101,2127,2320],[0.07966069404580903,0.08880523072477035,0.13218167687094132,0.13591129818054698,0.14810561145840279,0.1441621294952647,0.15332937174946562,0.15737111582571323,0.1599776853011525,0.16556088299628374,0.17064159997151238,0.17694835070846804,0.1825619778606834,0.18718621588286058,0.20652700193905002,0.21479659216663918,0.22235109047276155,0.22278361515291092,0.21833714393456846,0.2200774338371101,0.2321663215397156,0.23338103010624264,0.2340073016470123,0.22826419142300872,0.2415166309789731,0.2415166309789731,0.2473239490165989])                                                        |\n",
      "|nesquik moins de sucre       |nuts peanuts almonds prebiotic blend tapioca fiber vegetable fiber protein blend pea protein crisps pea protein tapioca starch pea protein natural flavors peanut flour coconut oil unsweetened chocolate cocoa cocoa butter sea salt lions mane stevia plant extract vitamin e                                                                                                                                                                                                                                                                                                                                                                                                                                                                                                                                                                                                                                                                                                                                                                                                                                                                                                                                                                                                                                                                                                                                                                                                                     |[nuts, peanuts, almonds, prebiotic, blend, tapioca, fiber, vegetable, fiber, protein, blend, pea, protein, crisps, pea, protein, tapioca, starch, pea, protein, natural, flavors, peanut, flour, coconut, oil, unsweetened, chocolate, cocoa, cocoa, butter, sea, salt, lions, mane, stevia, plant, extract, vitamin]                                                                                                                                                                                                                                                                                                                                                                                                                                                                                                                                                                                                                                                                                                                                                                                                                                                                                                                                                                                                                                                                                                                                                                                                                      |(9291,[0,1,3,8,16,18,32,33,42,49,56,60,69,75,116,153,157,165,166,184,234,364,382,459,517,1000,1082,3559,5583,6451],[0.021713206034047042,0.014766149830641272,0.026856195808171234,0.026983186171984253,0.062094088390334604,0.046511217580635686,0.05375653182432324,0.06076644633773954,0.05861572264636577,0.14012098338445306,0.06970422102778567,0.08317479233822146,0.31209466535700403,0.07380838547502702,0.08960878970500925,0.10260044875085146,0.1084844085556618,0.2060509874683868,0.10436530746891655,0.21902981144274433,0.2381700086983518,0.14224029286352963,0.14476195337936282,0.15365293510584563,0.49432225086324677,0.20366502255442348,0.2085336521063812,0.2775806804420261,0.3051444025493622,0.3080700976391141])|\n",
      "|mezzo mix                    |69 while mtr waffel mit feiner milchhaselnusscreme tour www schokolade zuidien wele schokolade 28 weizenbich emagermilchpulver sonnenblumenl milcheiweiss emula war mit feiner milchhaselnusscreme-fllung 53 nat 75204263 3x390 schokolade zudien weie schokolade 28 kakaobutter zucker magermilchpulver butterreinfett emui mol weizenmehl magermiluti magermilchpulver 85 vollmilchpulver 55 haselnusse 5 sssmo akao sonnenblumenl milcheiweiss emulgator lecithine soja backtriebmittel ammomumiyrencal dverthinket med hvid chokolade sprd wafer fylld med creme av mjlk och hasselntter 53 overdragen fylt med krem av melk og hasselntter 53 dekket med hvit sjokolade ingredienser hvit sjokola unmetmelkspulverskummjlkspulver konsentrert smrsmrkoncentrat emulgator lecitiner soja vanil er 5 vallepulvervasslepulvermysepulver stivelsevetestrkelse fettredusert esamtmilchbestandteile im produkt 215 dk se nor lkker sprd vaffel fyldt med creme af ml vetemjol skummetmlkspulverskummjlkspulver 85 helmelkpulversdmelkspulv ermjlkproteiner emulgator lecitiner soja hevemidler bakpulver ammoniumhydrogenkarbona erbonatnatriumvtekarbonat aromaer salt mlkeandelmjlkbestndsdelarmelkekomponenter totalt 21 intiaine lesitiinit soija vanillini sokeri palmuljy asvaton maitojauhe 85 tysmaitojauhe 55 5 herajauhe vehntrkkelys vhrasvainen ukkaljy maitoproteiinia emulgointiaine lesitiinit solja cammoniumvetykarbonaatti natriumvetykarbonaatti aromit va-ainella yhteens 215 434|[while, mtr, waffel, mit, feiner, milchhaselnusscreme, tour, www, schokolade, zuidien, wele, schokolade, weizenbich, emagermilchpulver, sonnenblumenl, milcheiweiss, emula, war, mit, feiner, milchhaselnusscreme-fllung, nat, 3x390, schokolade, zudien, weie, schokolade, kakaobutter, zucker, magermilchpulver, butterreinfett, emui, mol, weizenmehl, magermiluti, magermilchpulver, vollmilchpulver, haselnusse, sssmo, akao, sonnenblumenl, milcheiweiss, emulgator, lecithine, soja, backtriebmittel, ammomumiyrencal, dverthinket, med, hvid, chokolade, sprd, wafer, fylld, med, creme, mjlk, och, hasselntter, overdragen, fylt, med, krem, melk, hasselntter, dekket, med, hvit, sjokolade, ingredienser, hvit, sjokola, unmetmelkspulverskummjlkspulver, konsentrert, smrsmrkoncentrat, emulgator, lecitiner, soja, vanil, vallepulvervasslepulvermysepulver, stivelsevetestrkelse, fettredusert, esamtmilchbestandteile, produkt, nor, lkker, sprd, vaffel, fyldt, med, creme, vetemjol, skummetmlkspulverskummjlkspulver, helmelkpulversdmelkspulv, ermjlkproteiner, emulgator, lecitiner, soja, hevemidler, bakpulver, ammoniumhydrogenkarbona, erbonatnatriumvtekarbonat, aromaer, salt, mlkeandelmjlkbestndsdelarmelkekomponenter, totalt, intiaine, lesitiinit, soija, vanillini, sokeri, palmuljy, asvaton, maitojauhe, tysmaitojauhe, herajauhe, vehntrkkelys, vhrasvainen, ukkaljy, maitoproteiinia, emulgointiaine, lesitiinit, solja, cammoniumvetykarbonaatti, natriumvetykarbonaatti, aromit, va-ainella, yhteens]|(9291,[1,523,960,1293,1470,1512,2076,2179,2398,2706,2822,2941,3658,3940,4000,4257,4270,4497,4812,4885,5295,6920,7242,7422,7456,7752],[0.005563379524309119,0.19489361903587882,0.1519751807274258,0.08444616876274216,0.08614169866428864,0.08506313712527062,0.2811942492579863,0.09478354271439042,0.09700284170012996,0.19894582926306942,0.10501937594183455,0.10033000402469026,0.21094595946899997,0.5651795509176957,0.10695142562403485,0.2172939110511627,0.10805372733053126,0.10927226533397853,0.11607026157223585,0.11063447492656252,0.4642810462889434,0.12019535503208817,0.11865100916826711,0.11865100916826711,0.12019535503208817,0.12019535503208817])                                                                 |\n",
      "|valeriana system             |collagen peptides                                                                                                                                                                                                                                                                                                                                                                                                                                                                                                                                                                                                                                                                                                                                                                                                                                                                                                                                                                                                                                                                                                                                                                                                                                                                                                                                                                                                                                                                                   |[collagen, peptides]                                                                                                                                                                                                                                                                                                                                                                                                                                                                                                                                                                                                                                                                                                                                                                                                                                                                                                                                                                                                                                                                                                                                                                                                                                                                                                                                                                                                                                                                                                                       |(9291,[891,3977],[0.5545654426940492,0.8321401142653522])                                                                                                                                                                                                                                                                                                                                                                                                                                                                                                                                                                                                                                                                                   |\n",
      "+-----------------------------+----------------------------------------------------------------------------------------------------------------------------------------------------------------------------------------------------------------------------------------------------------------------------------------------------------------------------------------------------------------------------------------------------------------------------------------------------------------------------------------------------------------------------------------------------------------------------------------------------------------------------------------------------------------------------------------------------------------------------------------------------------------------------------------------------------------------------------------------------------------------------------------------------------------------------------------------------------------------------------------------------------------------------------------------------------------------------------------------------------------------------------------------------------------------------------------------------------------------------------------------------------------------------------------------------------------------------------------------------------------------------------------------------------------------------------------------------------------------------------------------------+-------------------------------------------------------------------------------------------------------------------------------------------------------------------------------------------------------------------------------------------------------------------------------------------------------------------------------------------------------------------------------------------------------------------------------------------------------------------------------------------------------------------------------------------------------------------------------------------------------------------------------------------------------------------------------------------------------------------------------------------------------------------------------------------------------------------------------------------------------------------------------------------------------------------------------------------------------------------------------------------------------------------------------------------------------------------------------------------------------------------------------------------------------------------------------------------------------------------------------------------------------------------------------------------------------------------------------------------------------------------------------------------------------------------------------------------------------------------------------------------------------------------------------------------+--------------------------------------------------------------------------------------------------------------------------------------------------------------------------------------------------------------------------------------------------------------------------------------------------------------------------------------------------------------------------------------------------------------------------------------------------------------------------------------------------------------------------------------------------------------------------------------------------------------------------------------------------------------------------------------------------------------------------------------------+\n",
      "only showing top 5 rows\n",
      "\n"
     ]
    },
    {
     "name": "stderr",
     "output_type": "stream",
     "text": [
      "25/06/02 19:37:30 WARN MemoryStore: Not enough space to cache rdd_459_0 in memory! (computed 440.5 MiB so far)\n",
      "                                                                                                    \r"
     ]
    }
   ],
   "source": [
    "from pyspark.ml import Transformer, Pipeline\n",
    "from pyspark.ml.feature import Tokenizer, StopWordsRemover, CountVectorizer, IDF, Normalizer\n",
    "from pyspark.ml.param.shared import HasInputCol, HasOutputCol\n",
    "from pyspark.sql.functions import udf, col\n",
    "from pyspark.sql.types import ArrayType, StringType\n",
    "from nltk.stem import PorterStemmer\n",
    "import re\n",
    "import nltk\n",
    "nltk.download('punkt')\n",
    "\n",
    "SYNONYMS = {\n",
    "    \"mozzarella\": \"cheese\", \"cheddar\": \"cheese\", \"parmesan\": \"cheese\",\n",
    "    \"tomatoes\": \"tomato\", \"wheat\": \"flour\", \"corn\": \"flour\"\n",
    "}\n",
    "\n",
    "#custom filter to remove non-ingredient words\n",
    "def is_ingredient_token(token):\n",
    "    return (len(token) > 2 and \n",
    "            not token.isnumeric() and \n",
    "            not re.match(r'^[0-9\\.-]+$', token) and\n",
    "            not token in ['gmbh', 'wwwknorrde', 'unilever'])\n",
    "\n",
    "#fixed SynonymReplacer\n",
    "class SynonymReplacer(Transformer, HasInputCol, HasOutputCol):\n",
    "    def __init__(self, synonyms=None, inputCol=None, outputCol=None):\n",
    "        super(SynonymReplacer, self).__init__()\n",
    "        self.synonyms = synonyms or {}\n",
    "        self._setDefault(inputCol=inputCol)\n",
    "        self._setDefault(outputCol=outputCol)\n",
    "    \n",
    "    def _transform(self, dataset):\n",
    "        def replace_synonyms(tokens):\n",
    "            return [self.synonyms.get(token, token) for token in tokens if is_ingredient_token(token)]\n",
    "        \n",
    "        replace_udf = udf(replace_synonyms, ArrayType(StringType()))\n",
    "        return dataset.withColumn(self.getOutputCol(), replace_udf(col(self.getInputCol())))\n",
    "\n",
    "#optimized pipeline\n",
    "pipeline = Pipeline(stages=[\n",
    "    Tokenizer(inputCol=\"ingredients_text\", outputCol=\"tokens\"),\n",
    "    SynonymReplacer(synonyms=SYNONYMS, inputCol=\"tokens\", outputCol=\"filtered_tokens\"),\n",
    "    CountVectorizer(inputCol=\"filtered_tokens\", outputCol=\"raw_features\", minDF=5.0),  # Increased minDF\n",
    "    IDF(inputCol=\"raw_features\", outputCol=\"features\"),\n",
    "    Normalizer(inputCol=\"features\", outputCol=\"norm_features\", p=2.0)\n",
    "])\n",
    "\n",
    "#fit and transform\n",
    "model = pipeline.fit(df)\n",
    "df = model.transform(df).cache()\n",
    "\n",
    "print(\"Optimized vocabulary size:\", len(model.stages[2].vocabulary))\n",
    "df.select(\"product_name\", \"ingredients_text\", \"filtered_tokens\", \"norm_features\").show(5, truncate=False)"
   ]
  },
  {
   "cell_type": "code",
   "execution_count": 56,
   "metadata": {
    "execution": {
     "iopub.execute_input": "2025-06-02T19:37:30.172780Z",
     "iopub.status.busy": "2025-06-02T19:37:30.172526Z",
     "iopub.status.idle": "2025-06-02T19:37:30.181338Z",
     "shell.execute_reply": "2025-06-02T19:37:30.180612Z",
     "shell.execute_reply.started": "2025-06-02T19:37:30.172752Z"
    },
    "trusted": true
   },
   "outputs": [
    {
     "data": {
      "text/plain": [
       "['product_name',\n",
       " 'brands',\n",
       " 'categories',\n",
       " 'countries',\n",
       " 'ingredients_text',\n",
       " 'allergens',\n",
       " 'nutriscore_score',\n",
       " 'nutriscore_grade',\n",
       " 'energy_100g',\n",
       " 'fat_100g',\n",
       " 'saturated-fat_100g',\n",
       " 'carbohydrates_100g',\n",
       " 'sugars_100g',\n",
       " 'fiber_100g',\n",
       " 'proteins_100g',\n",
       " 'salt_100g',\n",
       " 'image_url',\n",
       " 'tokens',\n",
       " 'filtered_tokens',\n",
       " 'raw_features',\n",
       " 'features',\n",
       " 'norm_features']"
      ]
     },
     "execution_count": 56,
     "metadata": {},
     "output_type": "execute_result"
    }
   ],
   "source": [
    "df.columns"
   ]
  },
  {
   "cell_type": "markdown",
   "metadata": {},
   "source": [
    "# 7. Cosine Similarity UDF\n",
    "\n",
    "Define a user-defined function (UDF) to compute cosine similarity between feature vectors."
   ]
  },
  {
   "cell_type": "code",
   "execution_count": 57,
   "metadata": {
    "execution": {
     "iopub.execute_input": "2025-06-02T19:37:30.182190Z",
     "iopub.status.busy": "2025-06-02T19:37:30.181859Z",
     "iopub.status.idle": "2025-06-02T19:37:30.193558Z",
     "shell.execute_reply": "2025-06-02T19:37:30.192811Z",
     "shell.execute_reply.started": "2025-06-02T19:37:30.182168Z"
    },
    "trusted": true
   },
   "outputs": [],
   "source": [
    "from pyspark.sql.functions import udf\n",
    "from pyspark.sql.types import DoubleType\n",
    "from pyspark.ml.linalg import SparseVector, DenseVector\n",
    "import numpy as np\n",
    "\n",
    "@udf(DoubleType())\n",
    "def cosine_similarity(v1, v2):\n",
    "    try:\n",
    "        # Handle None or invalid vectors\n",
    "        if v1 is None or v2 is None:\n",
    "            return 0.0\n",
    "        \n",
    "        # Convert v1 to dense array\n",
    "        v1_array = v1.toArray() if isinstance(v1, SparseVector) else np.array(v1)\n",
    "        \n",
    "        # Convert v2 to dense array\n",
    "        v2_array = v2.toArray() if isinstance(v2, SparseVector) else np.array(v2)\n",
    "        \n",
    "        # Ensure vectors have the same length\n",
    "        if v1_array.shape != v2_array.shape:\n",
    "            return 0.0\n",
    "        \n",
    "        # Check for zero vectors to avoid division by zero\n",
    "        if np.all(v1_array == 0) or np.all(v2_array == 0):\n",
    "            return 0.0\n",
    "        \n",
    "        # Compute cosine similarity (dot product of L2-normalized vectors)\n",
    "        dot_product = float(np.dot(v1_array, v2_array))\n",
    "        return dot_product\n",
    "    except Exception as e:\n",
    "        print(f\"Error in cosine similarity: {str(e)}\")\n",
    "        return 0.0  # Return 0.0 for invalid or empty vectors"
   ]
  },
  {
   "cell_type": "markdown",
   "metadata": {},
   "source": [
    "# 8. Recommendation Function\n",
    "\n",
    "Define a recommendation function that suggests products based on ingredient similarity, with optional filters for country, nutriscore, and allergens."
   ]
  },
  {
   "cell_type": "code",
   "execution_count": 58,
   "metadata": {
    "execution": {
     "iopub.execute_input": "2025-06-02T19:37:30.195069Z",
     "iopub.status.busy": "2025-06-02T19:37:30.194825Z",
     "iopub.status.idle": "2025-06-02T19:37:30.210630Z",
     "shell.execute_reply": "2025-06-02T19:37:30.209888Z",
     "shell.execute_reply.started": "2025-06-02T19:37:30.195047Z"
    },
    "trusted": true
   },
   "outputs": [],
   "source": [
    "from pyspark.sql.functions import udf, col\n",
    "from pyspark.sql.types import DoubleType\n",
    "from pyspark.ml.linalg import Vectors\n",
    "from pyspark.sql import SparkSession\n",
    "\n",
    "def get_recommendations(\n",
    "    ingredient_list=None,  #changed to match parameter name\n",
    "    ingredients=None,      #n,ew alias for compatibility\n",
    "    country=None, \n",
    "    nutriscore=None, \n",
    "    allergens=None, \n",
    "    top_n=5, \n",
    "    similarity_threshold=0.1,\n",
    "    relax_filters=False,\n",
    "    recursion_depth=0,  #new parameter to track recursion\n",
    "    max_recursion=3    #maximum recursion depth\n",
    "):\n",
    "    \n",
    "    #handle both parameter names\n",
    "    if ingredients is not None:\n",
    "        ingredient_list = ingredients\n",
    "    elif ingredient_list is None:\n",
    "        raise ValueError(\"Must provide either 'ingredient_list' or 'ingredients'\")\n",
    "    \n",
    "    #validate input\n",
    "    if not ingredient_list:\n",
    "        raise ValueError(\"Ingredient list cannot be empty\")\n",
    "    \n",
    "    #process input\n",
    "    input_text = \" \".join([\n",
    "        SYNONYMS.get(ing.lower().strip(), ing.lower().strip()) \n",
    "        for ing in ingredient_list\n",
    "    ])\n",
    "    \n",
    "    #create input DataFrame\n",
    "    input_df = spark.createDataFrame(\n",
    "        [(input_text,)], \n",
    "        schema=[\"ingredients_text\"]\n",
    "    )\n",
    "    \n",
    "    input_processed = model.transform(input_df)\n",
    "    input_vec = input_processed.select(\"norm_features\").first()[0]\n",
    "    \n",
    "    #convert input_vec to dense array and broadcast\n",
    "    input_vec_array = input_vec.toArray() if isinstance(input_vec, SparseVector) else np.array(input_vec)\n",
    "    broadcast_vec = spark.sparkContext.broadcast(input_vec_array)\n",
    "    \n",
    "    #apply filters\n",
    "    filtered_df = df\n",
    "    if country:\n",
    "        filtered_df = filtered_df.filter(lower(col(\"countries\")).contains(country.lower()))\n",
    "    if nutriscore:\n",
    "        filtered_df = filtered_df.filter(lower(col(\"nutriscore_grade\")) == nutriscore.lower())\n",
    "    if allergens and 'allergens' in df.columns:\n",
    "        for allergen in allergens:\n",
    "            filtered_df = filtered_df.filter(\n",
    "                col(\"allergens\").isNull() | \n",
    "                ~lower(col(\"allergens\")).contains(allergen.lower())\n",
    "            )\n",
    "    \n",
    "    #calculate similarities using UDF\n",
    "    recommendations = filtered_df.withColumn(\n",
    "        \"similarity\", \n",
    "        cosine_similarity(col(\"norm_features\"), lit(broadcast_vec.value.tolist()))\n",
    "    ).filter(col(\"similarity\") >= similarity_threshold)\n",
    "    \n",
    "    #fallback if no results\n",
    "    if recommendations.count() == 0 and relax_filters and recursion_depth < max_recursion:\n",
    "        print(f\"No results with strict filters, relaxing constraints (depth {recursion_depth + 1})...\")\n",
    "        return get_recommendations(\n",
    "            ingredient_list=ingredient_list,\n",
    "            country=country,\n",
    "            nutriscore=None if recursion_depth >= 1 else nutriscore,  # Relax nutriscore after first recursion\n",
    "            allergens=None if recursion_depth >= 1 else allergens,    # Relax allergens after first recursion\n",
    "            top_n=top_n,\n",
    "            similarity_threshold=max(0.05, similarity_threshold/2),\n",
    "            relax_filters=relax_filters,\n",
    "            recursion_depth=recursion_depth + 1,  # Increment depth\n",
    "            max_recursion=max_recursion\n",
    "        )\n",
    "    \n",
    "    #return empty DataFrame or message if no results after max recursion\n",
    "    if recommendations.count() == 0:\n",
    "        print(f\"No recommendations found after {recursion_depth} relaxation attempts.\")\n",
    "        return spark.createDataFrame([], schema=df.schema)\n",
    "    \n",
    "    return recommendations.orderBy(col(\"similarity\").desc()).limit(top_n)"
   ]
  },
  {
   "cell_type": "markdown",
   "metadata": {},
   "source": [
    "# 9. Test Recommendations\n",
    "\n",
    "Run test cases to evaluate the recommendation function."
   ]
  },
  {
   "cell_type": "code",
   "execution_count": 59,
   "metadata": {
    "execution": {
     "iopub.execute_input": "2025-06-02T19:37:30.212008Z",
     "iopub.status.busy": "2025-06-02T19:37:30.211474Z",
     "iopub.status.idle": "2025-06-02T19:44:36.734926Z",
     "shell.execute_reply": "2025-06-02T19:44:36.733908Z",
     "shell.execute_reply.started": "2025-06-02T19:37:30.211984Z"
    },
    "trusted": true
   },
   "outputs": [
    {
     "name": "stdout",
     "output_type": "stream",
     "text": [
      "\n",
      "Test Case 1: {'ingredient_list': ['tomato', 'cheese'], 'country': 'France'}\n"
     ]
    },
    {
     "name": "stderr",
     "output_type": "stream",
     "text": [
      "25/06/02 19:37:42 WARN MemoryStore: Not enough space to cache rdd_459_0 in memory! (computed 440.5 MiB so far)\n",
      "25/06/02 19:37:59 WARN MemoryStore: Not enough space to cache rdd_459_0 in memory! (computed 440.5 MiB so far)\n",
      "25/06/02 19:38:17 WARN MemoryStore: Not enough space to cache rdd_459_0 in memory! (computed 440.5 MiB so far)\n",
      "25/06/02 19:38:35 WARN MemoryStore: Not enough space to cache rdd_459_0 in memory! (computed 440.5 MiB so far)\n",
      "                                                                                                    \r"
     ]
    },
    {
     "name": "stdout",
     "output_type": "stream",
     "text": [
      "+------------------------------------+-------------------------------+----------------------+----------------+------------------+\n",
      "|product_name                        |brands                         |countries             |nutriscore_grade|similarity        |\n",
      "+------------------------------------+-------------------------------+----------------------+----------------+------------------+\n",
      "|tomato pesto pasta sauce            |classico                       |francecanada          |a               |0.6007953880115747|\n",
      "|roasted garlic chunky salsa medium  |tostitos                       |france united states  |b               |0.5574515628673135|\n",
      "|comt                                |marks spencer marks and spencer|france                |d               |0.5195320117451647|\n",
      "|medium salsa                        |pepsi tostitos                 |canadafrance          |b               |0.5133478442904571|\n",
      "|tomato juice from concentrate tomato|Not specified                  |enfrance united states|b               |0.5055048611222036|\n",
      "+------------------------------------+-------------------------------+----------------------+----------------+------------------+\n",
      "\n",
      "\n",
      "Test Case 2: {'ingredient_list': ['flour', 'eggs'], 'nutriscore': 'a', 'allergens': ['gluten']}\n"
     ]
    },
    {
     "name": "stderr",
     "output_type": "stream",
     "text": [
      "25/06/02 19:39:03 WARN MemoryStore: Not enough space to cache rdd_459_0 in memory! (computed 440.5 MiB so far)\n",
      "25/06/02 19:40:16 WARN MemoryStore: Not enough space to cache rdd_459_0 in memory! (computed 440.5 MiB so far)\n",
      "25/06/02 19:41:29 WARN MemoryStore: Not enough space to cache rdd_459_0 in memory! (computed 440.5 MiB so far)\n",
      "25/06/02 19:42:49 WARN MemoryStore: Not enough space to cache rdd_459_0 in memory! (computed 440.5 MiB so far)\n",
      "                                                                                                    \r"
     ]
    },
    {
     "name": "stdout",
     "output_type": "stream",
     "text": [
      "+------------------------+------------------+----------------+----------------+------------------+\n",
      "|product_name            |brands            |countries       |nutriscore_grade|similarity        |\n",
      "+------------------------+------------------+----------------+----------------+------------------+\n",
      "|15 british barn eggs    |sainsburys        |united kingdom  |a               |0.9753922295819943|\n",
      "|cage-free eggs          |trader joes       |united states   |a               |0.9753922295819943|\n",
      "|grade a large white eggs|green valley farms|united states   |a               |0.9753922295819943|\n",
      "|grade a large eggs      |kroger            |united states   |a               |0.9753922295819943|\n",
      "|6 british large eggs    |ms                |enunited kingdom|a               |0.9753922295819943|\n",
      "+------------------------+------------------+----------------+----------------+------------------+\n",
      "\n",
      "\n",
      "Test Case 3: {'ingredient_list': ['chocolate'], 'country': 'Belgium', 'similarity_threshold': 0.2}\n"
     ]
    },
    {
     "name": "stderr",
     "output_type": "stream",
     "text": [
      "25/06/02 19:44:19 WARN MemoryStore: Not enough space to cache rdd_459_0 in memory! (computed 440.5 MiB so far)\n",
      "                                                                                                    \r"
     ]
    },
    {
     "name": "stdout",
     "output_type": "stream",
     "text": [
      "No results with strict filters, relaxing constraints (depth 1)...\n"
     ]
    },
    {
     "name": "stderr",
     "output_type": "stream",
     "text": [
      "25/06/02 19:44:31 WARN MemoryStore: Not enough space to cache rdd_459_0 in memory! (computed 440.5 MiB so far)\n",
      "25/06/02 19:44:32 WARN MemoryStore: Not enough space to cache rdd_459_0 in memory! (computed 440.5 MiB so far)\n",
      "25/06/02 19:44:34 WARN MemoryStore: Not enough space to cache rdd_459_0 in memory! (computed 440.5 MiB so far)\n",
      "25/06/02 19:44:35 WARN MemoryStore: Not enough space to cache rdd_459_0 in memory! (computed 440.5 MiB so far)\n",
      "[Stage 208:>                                                                            (0 + 1) / 1]\r"
     ]
    },
    {
     "name": "stdout",
     "output_type": "stream",
     "text": [
      "+-----------------------------+------------------+---------+----------------+-------------------+\n",
      "|product_name                 |brands            |countries|nutriscore_grade|similarity         |\n",
      "+-----------------------------+------------------+---------+----------------+-------------------+\n",
      "|rocky road original candy bar|annabelle candy co|enbelgium|unknown         |0.1330758239521472 |\n",
      "|rocky road smore             |annabelles        |enbelgium|d               |0.12007184418736729|\n",
      "+-----------------------------+------------------+---------+----------------+-------------------+\n",
      "\n"
     ]
    },
    {
     "name": "stderr",
     "output_type": "stream",
     "text": [
      "                                                                                                    \r"
     ]
    }
   ],
   "source": [
    "test_cases = [\n",
    "    {\"ingredient_list\": [\"tomato\", \"cheese\"], \"country\": \"France\"},\n",
    "    {\"ingredient_list\": [\"flour\", \"eggs\"], \"nutriscore\": \"a\", \"allergens\": [\"gluten\"]},\n",
    "    {\"ingredient_list\": [\"chocolate\"], \"country\": \"Belgium\", \"similarity_threshold\": 0.2}\n",
    "]\n",
    "\n",
    "for idx, case in enumerate(test_cases, 1):\n",
    "    print(f\"\\nTest Case {idx}: {case}\")\n",
    "    try:\n",
    "        recs = get_recommendations(**case, relax_filters=True)\n",
    "        if recs and recs.count() > 0:\n",
    "            recs.select(\n",
    "                \"product_name\", \n",
    "                \"brands\", \n",
    "                \"countries\",\n",
    "                \"nutriscore_grade\", \n",
    "                \"similarity\"\n",
    "            ).show(truncate=False)\n",
    "        else:\n",
    "            print(\"No recommendations found\")\n",
    "    except Exception as e:\n",
    "        print(f\"Error: {str(e)}\")"
   ]
  },
  {
   "cell_type": "markdown",
   "metadata": {},
   "source": [
    "# 10. Save Results\n",
    "\n",
    "Save processed data and model assets for future use."
   ]
  },
  {
   "cell_type": "code",
   "execution_count": null,
   "metadata": {
    "trusted": true
   },
   "outputs": [],
   "source": [
    "import pandas as pd\n",
    "df_pd = df.toPandas()\n",
    "df_pd.to_pickle(\"food_data.pkl\")"
   ]
  },
  {
   "cell_type": "code",
   "execution_count": null,
   "metadata": {
    "execution": {
     "iopub.status.busy": "2025-06-02T19:44:40.436610Z",
     "iopub.status.idle": "2025-06-02T19:44:40.436965Z",
     "shell.execute_reply": "2025-06-02T19:44:40.436788Z",
     "shell.execute_reply.started": "2025-06-02T19:44:40.436772Z"
    },
    "trusted": true
   },
   "outputs": [],
   "source": [
    "import joblib \n",
    "# Save vocabulary and synonyms\n",
    "vocab = model.stages[2].vocabulary  # Adjust index if necessary\n",
    "joblib.dump({'vocab': vocab, 'synonyms': SYNONYMS}, \"model_assets.pkl\")"
   ]
  },
  {
   "cell_type": "code",
   "execution_count": null,
   "metadata": {
    "execution": {
     "iopub.status.busy": "2025-06-02T19:44:40.438049Z",
     "iopub.status.idle": "2025-06-02T19:44:40.438601Z",
     "shell.execute_reply": "2025-06-02T19:44:40.438436Z",
     "shell.execute_reply.started": "2025-06-02T19:44:40.438412Z"
    },
    "trusted": true
   },
   "outputs": [],
   "source": [
    "# Save Spark DataFrame as JSON\n",
    "df.write.mode(\"overwrite\").json(\"/kaggle/working/recommend_data_json\")"
   ]
  }
 ],
 "metadata": {
  "kaggle": {
   "accelerator": "nvidiaTeslaT4",
   "dataSources": [
    {
     "datasetId": 7565574,
     "sourceId": 12024962,
     "sourceType": "datasetVersion"
    }
   ],
   "dockerImageVersionId": 31041,
   "isGpuEnabled": true,
   "isInternetEnabled": true,
   "language": "python",
   "sourceType": "notebook"
  },
  "kernelspec": {
   "display_name": "Python 3",
   "language": "python",
   "name": "python3"
  },
  "language_info": {
   "codemirror_mode": {
    "name": "ipython",
    "version": 3
   },
   "file_extension": ".py",
   "mimetype": "text/x-python",
   "name": "python",
   "nbconvert_exporter": "python",
   "pygments_lexer": "ipython3",
   "version": "3.13.2"
  }
 },
 "nbformat": 4,
 "nbformat_minor": 4
}
